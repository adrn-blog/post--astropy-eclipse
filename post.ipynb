{
 "cells": [
  {
   "cell_type": "code",
   "execution_count": null,
   "metadata": {},
   "outputs": [],
   "source": [
    "from datetime import datetime\n",
    "\n",
    "import astropy.coordinates as coord\n",
    "from astropy.time import Time\n",
    "import astropy.units as u\n",
    "import numpy as np\n",
    "import pytz\n",
    "from IPython.display import HTML\n",
    "\n",
    "import matplotlib.pyplot as plt\n",
    "\n",
    "%matplotlib inline\n",
    "from matplotlib.dates import HourLocator, MinuteLocator, DateFormatter\n",
    "import matplotlib.animation as animation\n",
    "import matplotlib as mpl"
   ]
  },
  {
   "cell_type": "code",
   "execution_count": null,
   "metadata": {},
   "outputs": [],
   "source": [
    "# Set timezone here:\n",
    "mpl.rcParams[\"timezone\"] = \"US/Eastern\"\n",
    "\n",
    "# Enter address here:\n",
    "address = \"4 Ivy Lane, Princeton, NJ\""
   ]
  },
  {
   "cell_type": "markdown",
   "metadata": {},
   "source": [
    "Set up an array of times to get the sun and moon position during:"
   ]
  },
  {
   "cell_type": "code",
   "execution_count": null,
   "metadata": {},
   "outputs": [],
   "source": [
    "tz = pytz.timezone(mpl.rcParams[\"timezone\"])\n",
    "times = (\n",
    "    Time(datetime(2017, 8, 21, 8, 0, 0).astimezone(pytz.UTC))\n",
    "    + np.linspace(0, 12, 1024) * u.hour\n",
    ")\n",
    "dt = times.to_datetime(tz)"
   ]
  },
  {
   "cell_type": "markdown",
   "metadata": {},
   "source": [
    "Get objects representing your location on Earth, the moon's position, the sun's position"
   ]
  },
  {
   "cell_type": "code",
   "execution_count": null,
   "metadata": {},
   "outputs": [],
   "source": [
    "loc = coord.EarthLocation.of_address(address)\n",
    "moon = coord.get_moon(times)\n",
    "sun = coord.get_sun(times)"
   ]
  },
  {
   "cell_type": "markdown",
   "metadata": {},
   "source": [
    "Transform to Altitude-Azimuth coordinates at the specified location:"
   ]
  },
  {
   "cell_type": "code",
   "execution_count": null,
   "metadata": {},
   "outputs": [],
   "source": [
    "alt_az = coord.AltAz(obstime=times, location=loc)\n",
    "moon_aa = moon.transform_to(alt_az)\n",
    "sun_aa = sun.transform_to(alt_az)"
   ]
  },
  {
   "cell_type": "code",
   "execution_count": null,
   "metadata": {},
   "outputs": [],
   "source": [
    "plt.plot(moon_aa.az, moon_aa.alt, marker=\"None\", linestyle=\"-\", label=\"moon\")\n",
    "plt.plot(sun_aa.az, sun_aa.alt, marker=\"None\", linestyle=\"-\", label=\"sun\")\n",
    "plt.xlabel(\"Azimuth [deg]\")\n",
    "plt.ylabel(\"Altitude [deg]\")\n",
    "plt.legend()"
   ]
  },
  {
   "cell_type": "markdown",
   "metadata": {},
   "source": [
    "Compute the separation between the moon and the sun. Plot the separation around the time of minimum:"
   ]
  },
  {
   "cell_type": "code",
   "execution_count": null,
   "metadata": {},
   "outputs": [],
   "source": [
    "sun_moon_sep = moon_aa.separation(sun_aa)"
   ]
  },
  {
   "cell_type": "code",
   "execution_count": null,
   "metadata": {},
   "outputs": [],
   "source": [
    "fig, ax = plt.subplots(1, 1, figsize=(10, 6))\n",
    "\n",
    "ax.plot(dt, sun_moon_sep.to(u.arcmin), marker=\"None\")\n",
    "\n",
    "ax.xaxis_date(tz=tz)\n",
    "ax.set_xlim(\n",
    "    dt[max(sun_moon_sep.argmin() - 128, 0)],\n",
    "    dt[min(sun_moon_sep.argmin() + 128, len(dt))],\n",
    ")\n",
    "\n",
    "ax.xaxis.set_major_locator(HourLocator())\n",
    "ax.xaxis.set_major_formatter(DateFormatter(\"%H:%M\"))\n",
    "ax.xaxis.set_minor_locator(MinuteLocator(byminute=np.arange(15, 60, 15)))\n",
    "ax.xaxis.set_minor_formatter(DateFormatter(\":%M\"))\n",
    "\n",
    "ax.set_ylim(0, 30)\n",
    "\n",
    "ax.set_xlabel(f\"Local time [{dt[0]:%Z}]\")\n",
    "ax.set_ylabel(\"Sun–Moon separation [arcmin]\")"
   ]
  },
  {
   "cell_type": "markdown",
   "metadata": {},
   "source": [
    "Now we'll make an animation of the eclipse, centered on the Sun's position first:"
   ]
  },
  {
   "cell_type": "code",
   "execution_count": null,
   "metadata": {},
   "outputs": [],
   "source": [
    "i0 = max(sun_moon_sep.argmin() - 128, 0)\n",
    "i1 = min(sun_moon_sep.argmin() + 128, len(dt))\n",
    "\n",
    "fig, ax = plt.subplots(1, 1, figsize=(6, 6))\n",
    "\n",
    "x = np.arange(0, 2 * np.pi, 0.01)\n",
    "\n",
    "moon_pa = mpl.patches.Ellipse((0, 0), width=0.5, height=0.5, color=\"#666666\", zorder=10)\n",
    "sun_pa = mpl.patches.Ellipse((0, 0), width=0.5, height=0.5, color=\"#ffff3d\", zorder=1)\n",
    "ax.add_patch(moon_pa)\n",
    "ax.add_patch(sun_pa)\n",
    "\n",
    "ax.set_xlabel(\"Azimuth [deg]\")\n",
    "ax.set_ylabel(\"Altitude [deg]\")\n",
    "\n",
    "fig.tight_layout()\n",
    "\n",
    "\n",
    "def animate(i):\n",
    "    moon_pa.center = [moon_aa.az[i].degree, moon_aa.alt[i].degree]\n",
    "    sun_pa.center = [sun_aa.az[i].degree, sun_aa.alt[i].degree]\n",
    "\n",
    "    moon_pa.height = 0.5 * np.cos(moon_aa.alt[i])\n",
    "    sun_pa.height = 0.5 * np.cos(sun_aa.alt[i])\n",
    "\n",
    "    az_lim = (sun_aa.az[i].to(u.degree).value - 2, sun_aa.az[i].to(u.degree).value + 2)\n",
    "    alt_lim = (\n",
    "        sun_aa.alt[i].to(u.degree).value - 2,\n",
    "        sun_aa.alt[i].to(u.degree).value + 2,\n",
    "    )\n",
    "\n",
    "    ax.set_xlim(az_lim)\n",
    "    ax.set_ylim(alt_lim)\n",
    "\n",
    "    return moon_pa, sun_pa\n",
    "\n",
    "\n",
    "def init():\n",
    "    return animate(i0)\n",
    "\n",
    "\n",
    "ani = animation.FuncAnimation(\n",
    "    fig, animate, np.arange(i0, i1), init_func=init, interval=25, blit=True\n",
    ")"
   ]
  },
  {
   "cell_type": "code",
   "execution_count": null,
   "metadata": {},
   "outputs": [],
   "source": [
    "HTML(ani.to_html5_video())"
   ]
  },
  {
   "cell_type": "code",
   "execution_count": null,
   "metadata": {},
   "outputs": [],
   "source": [
    "fig2, ax = plt.subplots(1, 1, figsize=(12, 4.8))\n",
    "\n",
    "x = np.arange(0, 2 * np.pi, 0.01)\n",
    "\n",
    "moon_pa = mpl.patches.Ellipse((0, 0), width=0.5, height=0.5, color=\"#666666\", zorder=10)\n",
    "sun_pa = mpl.patches.Ellipse((0, 0), width=0.5, height=0.5, color=\"#fec44f\", zorder=1)\n",
    "ax.add_patch(moon_pa)\n",
    "ax.add_patch(sun_pa)\n",
    "\n",
    "ax.set_xlabel(\"Azimuth [deg]\")\n",
    "ax.set_ylabel(\"Altitude [deg]\")\n",
    "\n",
    "ax.set_xlim(180, 255)\n",
    "ax.set_ylim(35, 65)\n",
    "\n",
    "fig2.tight_layout()\n",
    "\n",
    "\n",
    "def animate2(i):\n",
    "    moon_pa.center = [moon_aa.az[i].degree, moon_aa.alt[i].degree]\n",
    "    sun_pa.center = [sun_aa.az[i].degree, sun_aa.alt[i].degree]\n",
    "\n",
    "    moon_pa.height = 0.5 * np.cos(moon_aa.alt[i])\n",
    "    sun_pa.height = 0.5 * np.cos(sun_aa.alt[i])\n",
    "\n",
    "    return moon_pa, sun_pa\n",
    "\n",
    "\n",
    "def init2():\n",
    "    return animate2(i0)\n",
    "\n",
    "\n",
    "ani2 = animation.FuncAnimation(\n",
    "    fig2, animate2, np.arange(i0, i1), init_func=init2, interval=25, blit=True\n",
    ")\n",
    "\n",
    "ani2"
   ]
  },
  {
   "cell_type": "code",
   "execution_count": null,
   "metadata": {},
   "outputs": [],
   "source": [
    "HTML(ani2.to_html5_video())"
   ]
  }
 ],
 "metadata": {
  "gist": {
   "data": {
    "description": "Astropy eclipse.ipynb",
    "public": true
   },
   "id": ""
  }
 },
 "nbformat": 4,
 "nbformat_minor": 2
}
